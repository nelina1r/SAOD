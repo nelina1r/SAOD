{
 "cells": [
  {
   "cell_type": "markdown",
   "metadata": {},
   "source": [
    "# Лабораторная работа №3\n",
    "## Выполнил студент группы БСТ1904 Дедов А.Д."
   ]
  },
  {
   "cell_type": "markdown",
   "metadata": {},
   "source": [
    "### Задание №1\n",
    "Реализовать методы поиска подстроки в строке. \n",
    "Добавить возможность ввода строки и подстроки с клавиатуры. \n",
    "Предусмотреть возможность существования пробела. \n",
    "Реализовать возможность выбора опции чувствительности или нечувствительности к регистру. \n",
    "Оценить время работы каждого алгоритма поиска и сравнить его со временем работы стандартной функции поиска, используемой в выбранном языке программирования.\n",
    "Алгоритмы:\n",
    "1.Кнута-Морриса-Пратта\n",
    "2.Упрощенный Бойера-Мура"
   ]
  },
  {
   "cell_type": "code",
   "execution_count": 13,
   "metadata": {},
   "outputs": [
    {
     "name": "stdout",
     "output_type": "stream",
     "text": [
      "Ввод строк: 0 - вручную; 1 - готовый пример. 1\n",
      "Поиск чувствителен к регистру? (0/1). 0\n",
      "Поиск чувствителен к пробелам? (0/1). 1\n",
      "string = an d And style never met and those among great. At wander no or september sportsmen he perfectly happiness attending. \n",
      "pattern = and\n",
      "[kmp_search] found pattern at: 5\n",
      "[kmp_search] took 0 nanoseconds\n",
      "[bm_search] found pattern at: 5\n",
      "[bm_search] took 7998500 nanoseconds\n",
      "[std_search] found pattern at: 5\n",
      "[std_search] took 0 nanoseconds\n"
     ]
    }
   ],
   "source": [
    "import time\n",
    "\n",
    "# Алгоритм Кнута-Морриса-Пратта\n",
    "def kmp_search(string, pattern, regsens, spcsens):\n",
    "    if not regsens:\n",
    "        string = string.lower()\n",
    "        pattern = pattern.lower()\n",
    "    if not spcsens:\n",
    "        string = string.replace(\" \", \"\")\n",
    "    j = 0 # Позиция рассматриваемого символа в string\n",
    "    k = 0 # Позиция рассматриваемого символа в pattern\n",
    "    while j < len(string):\n",
    "        if string[j] == pattern[k]:\n",
    "            j += 1\n",
    "            k += 1\n",
    "            if k == len(pattern):\n",
    "                return(j - k)\n",
    "        else:\n",
    "            k = 0\n",
    "            j += 1\n",
    "    return(None)\n",
    "            \n",
    "# Упрощенный алгоритм Бойера-Мура\n",
    "def bm_search(string, pattern, regsens, spcsens):\n",
    "    if not regsens:\n",
    "        string = string.lower()\n",
    "        pattern = pattern.lower()\n",
    "    if not spcsens:\n",
    "        string = string.replace(\" \", \"\")\n",
    "    n = len(string)\n",
    "    m = len(pattern)\n",
    "    pos = [] # Позиции нужного слова\n",
    "    bound = 0\n",
    "    # Формируем таблицу суффиксов (смещения)\n",
    "    suffshift = [m for i in range(1105)]\n",
    "    for i in range(0, m-1):\n",
    "        suffshift[ord(pattern[i])] = m-i-1\n",
    "    # Поиск подстрок\n",
    "    # k - проход по string\n",
    "    # j - проход по pattern\n",
    "    # i - место начала прохода по s\n",
    "    i = m-1\n",
    "    j = k = i\n",
    "    while j >= 0 and i <= n-1:\n",
    "        j = m-1\n",
    "        k = i\n",
    "        while j >= 0 and string[k] == pattern[j]:\n",
    "            k -= 1\n",
    "            j -= 1\n",
    "        i += suffshift[ord(string[i])]\n",
    "    if j <= 0:# нашли\n",
    "        return(k+1)\n",
    "    return(None) # не нашли\n",
    "            \n",
    "option = int(input(\"Ввод строк: 0 - вручную; 1 - готовый пример. \"))\n",
    "regsens = bool(int(input(\"Поиск чувствителен к регистру? (0/1). \")))\n",
    "spcsens = bool(int(input(\"Поиск чувствителен к пробелам? (0/1). \")))\n",
    "if option == 0:\n",
    "    string = input(\"Введите строку:\")\n",
    "    pattern = input(\"Введите искомую подстроку:\")\n",
    "if option == 1:\n",
    "    string = \"an d And style never met and those among great. At wander no or september sportsmen he perfectly happiness attending.\"\n",
    "    pattern = \"and\"\n",
    "print(\"string =\", string, \"\\npattern =\", pattern)\n",
    "    \n",
    "# Алгоритм Кнута-Морриса-Пратта\n",
    "start_time = time.time_ns()\n",
    "print(\"[kmp_search] found pattern at:\", kmp_search(string, pattern, regsens, spcsens))\n",
    "print(\"[kmp_search] took %s nanoseconds\" % (time.time_ns() - start_time))\n",
    "# Упрощенный алгоритм Бойера-Мура\n",
    "start_time = time.time_ns()\n",
    "print(\"[bm_search] found pattern at:\", bm_search(string, pattern, regsens, spcsens))\n",
    "print(\"[bm_search] took %s nanoseconds\" % (time.time_ns() - start_time))\n",
    "# Стандартная функция поиска\n",
    "if not regsens:\n",
    "    string = string.lower()\n",
    "    pattern = pattern.lower()\n",
    "if not spcsens:\n",
    "    string = string.replace(\" \", \"\")\n",
    "start_time = time.time_ns()\n",
    "print(\"[std_search] found pattern at:\", string.find(pattern))\n",
    "print(\"[std_search] took %s nanoseconds\" % (time.time_ns() - start_time))"
   ]
  },
  {
   "cell_type": "markdown",
   "metadata": {},
   "source": [
    "### Задание 2 \n",
    "«Пятнашки»\n",
    "Написать программу, определяющую, является ли данное расположение «решаемым», то есть можно ли из него за конечное число шагов перейти к правильному. Если это возможно, то необходимо найти хотя бы одно решение - последовательность движений, после которой числа будут расположены в правильном порядке."
   ]
  },
  {
   "cell_type": "code",
   "execution_count": null,
   "metadata": {},
   "outputs": [],
   "source": [
    "\n"
   ]
  },
  {
   "cell_type": "markdown",
   "metadata": {},
   "source": []
  }
 ],
 "metadata": {
  "kernelspec": {
   "display_name": "Python 3",
   "language": "python",
   "name": "python3"
  },
  "language_info": {
   "codemirror_mode": {
    "name": "ipython",
    "version": 3
   },
   "file_extension": ".py",
   "mimetype": "text/x-python",
   "name": "python",
   "nbconvert_exporter": "python",
   "pygments_lexer": "ipython3",
   "version": "3.8.5"
  }
 },
 "nbformat": 4,
 "nbformat_minor": 5
}
