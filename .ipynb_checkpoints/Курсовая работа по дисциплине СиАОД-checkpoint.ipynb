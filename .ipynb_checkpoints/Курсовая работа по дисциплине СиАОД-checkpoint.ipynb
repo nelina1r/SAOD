{
 "cells": [
  {
   "cell_type": "markdown",
   "metadata": {},
   "source": [
    "# Курсовая работа по дисциплине СиАОД\n",
    "Выполнил студент группы БСТ1904 Дедов Александр"
   ]
  },
  {
   "cell_type": "markdown",
   "metadata": {},
   "source": [
    "# Задача 1"
   ]
  },
  {
   "cell_type": "markdown",
   "metadata": {},
   "source": [
    "Даны две строки: s1 и s2 с одинаковым размером, проверьте, может ли\n",
    "некоторая перестановка строки s1 “победить” некоторую перестановку\n",
    "строки s2 или наоборот.\n",
    "Строка x может “победить” строку y (обе имеют размер n), если x[i]> = y\n",
    "[i] (в алфавитном порядке) для всех i от 0 до n-1."
   ]
  },
  {
   "cell_type": "code",
   "execution_count": 25,
   "metadata": {},
   "outputs": [
    {
     "name": "stdout",
     "output_type": "stream",
     "text": [
      "True\n",
      "False\n"
     ]
    }
   ],
   "source": [
    "def task1(str1,str2):\n",
    "    str1 = sorted(str1)\n",
    "    str2 = sorted(str2)\n",
    "    k = 0\n",
    "    for i in range(len(str1)):\n",
    "        if (str1[i] > str2[i]):\n",
    "            k += 1\n",
    "    if (k == len(str1) or k == 0): #s1 beat s2 or s2 beat s1\n",
    "        return True\n",
    "    else: \n",
    "        return False #len(s1) != len(s2) or strings cant beat each other\n",
    "print(task1('abc', 'xya'))\n",
    "print(task1('abe', 'acd'))"
   ]
  },
  {
   "cell_type": "markdown",
   "metadata": {},
   "source": [
    "# Задача 2"
   ]
  },
  {
   "cell_type": "markdown",
   "metadata": {},
   "source": [
    "Дана строка s, вернуть самую длинную полиндромную подстроку в s."
   ]
  },
  {
   "cell_type": "code",
   "execution_count": 31,
   "metadata": {},
   "outputs": [
    {
     "name": "stdout",
     "output_type": "stream",
     "text": [
      "aba\n",
      "bb\n",
      "aboba\n"
     ]
    }
   ],
   "source": [
    "def task2(s):\n",
    "    result = \"\"\n",
    "    for i in range(len(s)):\n",
    "        for j in range(0, i):\n",
    "            buf = s[j:i + 1] #part of str starts j stop i+1\n",
    "            if buf == buf[::-1]: #if buf == reverse buf then its palindrome\n",
    "                if len(buf) >= len(result):\n",
    "                    result = buf  \n",
    "    return result\n",
    "\n",
    "print(task2(\"babad\"))\n",
    "print(task2(\"cbbd\"))\n",
    "print(task2(\"amogusaboba\"))"
   ]
  },
  {
   "cell_type": "markdown",
   "metadata": {},
   "source": [
    "# Задача 3"
   ]
  },
  {
   "cell_type": "markdown",
   "metadata": {},
   "source": [
    "Вернуть количество отдельных непустых подстрок текста, которые могут\n",
    "быть записаны как конкатенация некоторой строки с самой собой (т.е. она\n",
    "может быть записана, как a + a, где a - некоторая строка)."
   ]
  },
  {
   "cell_type": "code",
   "execution_count": 32,
   "metadata": {},
   "outputs": [
    {
     "name": "stdout",
     "output_type": "stream",
     "text": [
      "3\n"
     ]
    }
   ],
   "source": [
    "def task3(s):\n",
    "    length = len(s)\n",
    "    result = []\n",
    "    for i in range(0, length):\n",
    "        for j in range(i + 1, length + 1):\n",
    "            buf = s[i:j] #buf = часть строки от i до j\n",
    "            for i in range(0, len(buf)):\n",
    "                check = False\n",
    "                if buf[0:i] == buf[i:len(buf)]: #если части равны\n",
    "                    result.append(buf) #записываем\n",
    "                    check = True\n",
    "                if check == True: \n",
    "                    break;              \n",
    "    return len(set(result)) #длина группы уникальных паттернов\n",
    "print(task3('abcabcabc'))"
   ]
  },
  {
   "cell_type": "markdown",
   "metadata": {},
   "source": [
    "# Задача 4 «Треугольник с максимальным периметром»"
   ]
  },
  {
   "cell_type": "markdown",
   "metadata": {},
   "source": [
    "Массив A состоит из целых положительных чисел длин отрезков. Составьте из трех отрезков такой треугольник, чтобы его периметр был максимально возможным. Если невозможно составить треугольник с положительной площадью функция возвращает 0."
   ]
  },
  {
   "cell_type": "code",
   "execution_count": 40,
   "metadata": {},
   "outputs": [
    {
     "name": "stdout",
     "output_type": "stream",
     "text": [
      "[4, 3, 3, 2]\n",
      "10\n"
     ]
    }
   ],
   "source": [
    "#task4\n",
    "def Perimetr(a, b, c):\n",
    "    if (a+b)>c and (a+c)>b and (b+c)>a: #чек на существование треугольника\n",
    "        return int(a+b+c)\n",
    "    else:\n",
    "        return 0\n",
    "\n",
    "mas=[3,2,3,4] \n",
    "mas=sorted(mas, reverse=True) #сорт + реверс\n",
    "print(mas)\n",
    "for i in range(len(mas)-2):\n",
    "    if Perimetr(mas[i], mas[i+1], mas[i+2])>0:\n",
    "        print(Perimetr(mas[i], mas[i+1], mas[i+2]))\n",
    "        break"
   ]
  },
  {
   "cell_type": "markdown",
   "metadata": {},
   "source": [
    "# Задача 5 «Сортировка диагоналей в матрице»"
   ]
  },
  {
   "cell_type": "code",
   "execution_count": 38,
   "metadata": {},
   "outputs": [
    {
     "name": "stdout",
     "output_type": "stream",
     "text": [
      "mat:\n",
      "[3, 3, 1, 1]\n",
      "[2, 2, 1, 2]\n",
      "[1, 1, 1, 2]\n",
      "\n",
      "Sorted: \n",
      "[1, 1, 1, 1]\n",
      "[1, 2, 2, 2]\n",
      "[1, 2, 3, 3]\n",
      "\n",
      "mat:\n",
      "[11, 25, 66, 1, 69, 7]\n",
      "[23, 55, 17, 45, 15, 52]\n",
      "[75, 31, 36, 44, 58, 8]\n",
      "[22, 27, 33, 25, 68, 4]\n",
      "[84, 28, 14, 11, 5, 50]\n",
      "\n",
      "Sorted: \n",
      "[5, 17, 4, 1, 52, 7]\n",
      "[11, 11, 25, 45, 8, 69]\n",
      "[14, 23, 25, 44, 58, 15]\n",
      "[22, 27, 31, 36, 50, 66]\n",
      "[84, 28, 75, 33, 55, 68]\n"
     ]
    }
   ],
   "source": [
    "def task5(mat):\n",
    "    # размер\n",
    "    m, n = len(mat), len(mat[0])\n",
    "    \n",
    "    # Пустой массив для диагоналей исходной матрицы\n",
    "    temp = []\n",
    "    for i in range(m + n):\n",
    "        temp.append([])\n",
    "     \n",
    "    # Добавляем каждую диагональ в массив t\n",
    "    for i in range(m):\n",
    "        for j in range(n):\n",
    "            temp[i - j].append(mat[i][j])\n",
    "    \n",
    "    # Сортируем каждую диагональ (т.е линию) массива\n",
    "    for line in temp:\n",
    "        line.sort(reverse = True)\n",
    "    \n",
    "    # \"Линии\" в диагонали матрицы\n",
    "    for i in range(m):\n",
    "        for j in range(n):\n",
    "            # pop() удаляет последний элемент массива и возвращает его\n",
    "            mat[i][j] = temp[i-j].pop()\n",
    "    return mat\n",
    "\n",
    "arr = [[3,3,1,1], [2,2,1,2], [1,1,1,2]]\n",
    "print(\"mat:\")\n",
    "for l in arr:\n",
    "    print(l) \n",
    "print(\"\\nSorted: \")\n",
    "arr = task5(arr)\n",
    "for l in arr:\n",
    "    print(l)\n",
    "arr = [[11, 25, 66, 1, 69, 7], [23, 55, 17, 45, 15, 52], [75, 31, 36, 44, 58, 8], [22, 27, 33, 25, 68, 4], [84, 28, 14, 11, 5, 50]]\n",
    "print(\"\\nmat:\")\n",
    "for l in arr:\n",
    "    print(l)\n",
    "    \n",
    "print(\"\\nSorted: \")\n",
    "arr = task5(arr)\n",
    "for l in arr:\n",
    "    print(l)"
   ]
  },
  {
   "cell_type": "markdown",
   "metadata": {},
   "source": [
    "# Задача 6 «Объединение отрезков»"
   ]
  },
  {
   "cell_type": "markdown",
   "metadata": {},
   "source": [
    "Дан массив отрезков intervals, в котором intervals[i] = [starti, endi], некоторые\n",
    "отрезки могут пересекаться. Напишите функцию, которая объединяет все пересекающиеся отрезки\n",
    "в один и возвращает новый массив непересекающихся отрезков."
   ]
  },
  {
   "cell_type": "code",
   "execution_count": 50,
   "metadata": {},
   "outputs": [
    {
     "name": "stdout",
     "output_type": "stream",
     "text": [
      "[[1, 10], [11, 18]]\n"
     ]
    }
   ],
   "source": [
    "# если встречается конец отрезка, \n",
    "# который по значению меньше, чем начало следующего отрезка, \n",
    "# то появляется новый, обособелнный от других отрезок и добавляем его в результат\n",
    "# Иначе берем конец следующего отрезка и меняем текущий конец\n",
    "def task6(intervals):\n",
    "    result = []\n",
    "    intervals.sort()\n",
    "    for interval in intervals:\n",
    "        if result == [] or result[-1][1] < interval[0]:\n",
    "            result.append(interval)\n",
    "        else:\n",
    "            result[-1][1] = max(result[-1][1], interval[1])\n",
    "    return result\n",
    "\n",
    "print(task6([[1,3],[2,6],[5,10],[11,18]]))"
   ]
  },
  {
   "cell_type": "markdown",
   "metadata": {},
   "source": [
    "# Задача 7 «Стопки монет»"
   ]
  },
  {
   "cell_type": "markdown",
   "metadata": {},
   "source": [
    "На столе стоят 3n стопок монет. Вы и ваши друзья Алиса и Боб забираете стопки монет по\n",
    "следующему алгоритму:\n",
    "1. Вы выбираете 3 стопки монет из оставшихся на столе.\n",
    "2. Алиса забирает себе стопку с максимальным количеством монет.\n",
    "3. Вы забираете одну из двух оставшихся стопок.\n",
    "4. Боб забирает последнюю стопку.\n",
    "5. Если еще остались стопки, то действия повторяются с первого шага.\n",
    "Дан массив целых положительных чисел piles. Напишите функцию, возвращающую максимальное\n",
    "число монет, которое вы можете получить."
   ]
  },
  {
   "cell_type": "code",
   "execution_count": 51,
   "metadata": {},
   "outputs": [
    {
     "name": "stdout",
     "output_type": "stream",
     "text": [
      "12\n",
      "4\n",
      "18\n"
     ]
    }
   ],
   "source": [
    "# В отсортированном массиве стопок монет для нас выгодно\n",
    "# выбирать всегда наибольшую, наибольшую вторую и наименьшую стопки.\n",
    "# В таком случае Алиса получит наибольшую, мы получим наибольшую вторую,\n",
    "# а Боб наименьшую, что будет самым выгодным вариатном.\n",
    "def task7(arr):\n",
    "    arr.sort()\n",
    "    res=0\n",
    "    for i in range (len(arr)//3, len(arr), 2): #получаем каждую вторую стопку\n",
    "        res+=arr[i]\n",
    "    return res\n",
    "\n",
    "print(task7([2,4,5,6,7,8]))\n",
    "print(task7([2,4,5]))\n",
    "print(task7([9,8,7,6,5,1,2,3,4]))"
   ]
  },
  {
   "cell_type": "markdown",
   "metadata": {},
   "source": [
    "# Задача 8 «Шарики и стрелы»\n",
    "Некоторые сферические шарики распределены по двухмерному пространству. Для каждого\n",
    "шарика даны xкоординаты\n",
    "начала и конца его горизонтального диаметра. Так как пространство\n",
    "двумерно, то yкоординаты\n",
    "не имеют значения в данной задаче. Координата xstart всегда меньше\n",
    "xend.\n",
    "Стрелу можно выстрелить строго вертикально (вдоль yоси)\n",
    "из разных точек xоси.\n",
    "Шарик\n",
    "с координатами xstart и xend уничтожается стрелой, если она была выпущена из такой позиции\n",
    "x, что xstart ⩽ x ⩽ xend. Когда стрела выпущена, она летит в пространстве бесконечное время\n",
    "(уничтожая все шарики на пути).\n",
    "Дан массив points, где points[i] = [xstart, xend]. Напишите функцию, возвращающую\n",
    "минимальное количество стрел, которые нужно выпустить, чтобы уничтожить все шарики."
   ]
  },
  {
   "cell_type": "code",
   "execution_count": 46,
   "metadata": {},
   "outputs": [
    {
     "name": "stdout",
     "output_type": "stream",
     "text": [
      "2\n",
      "4\n"
     ]
    }
   ],
   "source": [
    "def findMinArrowShots(points):\n",
    "        if len(points) == 0: #шаров нет => стрел 0\n",
    "            return 0\n",
    "        points.sort(key = lambda a:a[1]) #сортируем список шаров по xStart\n",
    "        arrows = 1\n",
    "        curr = points[0] #первый шар из списка берем\n",
    "        for balloon in points:\n",
    "            if curr[1] < balloon[0]: #проверяем шары после этого шара\n",
    "                curr = balloon # если xEnd < xStart\n",
    "                arrows += 1 #то получаем новый шар и новые стрелы\n",
    "        return arrows\n",
    "    \n",
    "print(task8([[10, 16],[2,8],[1,6],[7,12]]))\n",
    "print(task8([[1,2],[3,4],[5,6],[7,8]]))"
   ]
  },
  {
   "cell_type": "markdown",
   "metadata": {},
   "source": [
    "# Задача 9 \"Максимальное число\"\n",
    "Дан массив неотрицательных целых чисел nums. Расположите их в таком порядке, чтобы\n",
    "вместе они образовали максимально возможное число."
   ]
  },
  {
   "cell_type": "code",
   "execution_count": 48,
   "metadata": {},
   "outputs": [
    {
     "name": "stdout",
     "output_type": "stream",
     "text": [
      "9534330\n"
     ]
    }
   ],
   "source": [
    "nums = [3, 30, 34, 5, 9]       \n",
    "max_len = len(str(max(nums)))  # Вычисляем длину максимального элемента\n",
    "nums = [str(i) for i in nums]  # все элементы массива в строковый тип\n",
    "\n",
    "def change_elem(s):\n",
    "    return s + s[-1] * (max_len - len(s)) # Функция повторяет последнюю цифру, пока число не станет \n",
    "                                          # по длине как самое длинное из списка                              \n",
    "sort_list = sorted(nums, key=change_elem, reverse=True) # Отсортированный массив\n",
    "print(''.join(sort_list))"
   ]
  },
  {
   "cell_type": "markdown",
   "metadata": {},
   "source": [
    "# Вывод:\n",
    "    В ходе курсовой работы я научился решать задачи на языке программирования Python 3."
   ]
  }
 ],
 "metadata": {
  "kernelspec": {
   "display_name": "Python 3",
   "language": "python",
   "name": "python3"
  },
  "language_info": {
   "codemirror_mode": {
    "name": "ipython",
    "version": 3
   },
   "file_extension": ".py",
   "mimetype": "text/x-python",
   "name": "python",
   "nbconvert_exporter": "python",
   "pygments_lexer": "ipython3",
   "version": "3.8.5"
  }
 },
 "nbformat": 4,
 "nbformat_minor": 4
}
